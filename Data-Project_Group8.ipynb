{
 "cells": [
  {
   "cell_type": "markdown",
   "id": "e0e78547",
   "metadata": {},
   "source": [
    "# Exploratory Data Analysis Project Group 8"
   ]
  },
  {
   "cell_type": "markdown",
   "id": "bfa7d87e",
   "metadata": {},
   "source": [
    "### Library Importation"
   ]
  },
  {
   "cell_type": "code",
   "execution_count": 1,
   "id": "3095bc69",
   "metadata": {},
   "outputs": [],
   "source": [
    "# Import Libraries\n",
    "import pandas as pd\n",
    "import numpy as np\n",
    "import matplotlib.pyplot as plt\n",
    "import seaborn as sns"
   ]
  },
  {
   "cell_type": "markdown",
   "id": "b93cdf5c",
   "metadata": {},
   "source": [
    "### Data Import and Clean"
   ]
  },
  {
   "cell_type": "markdown",
   "id": "135b6aba",
   "metadata": {},
   "source": [
    "This section's goal is to import different data sheet and clean them to make them meet our expectation of data and be ready for merging."
   ]
  },
  {
   "cell_type": "markdown",
   "id": "5a6aa6b3",
   "metadata": {},
   "source": [
    "mbti data sheet"
   ]
  },
  {
   "cell_type": "code",
   "execution_count": 2,
   "id": "3ed7dbb6",
   "metadata": {},
   "outputs": [
    {
     "name": "stdout",
     "output_type": "stream",
     "text": [
      "['ESFP' 'XXXX' 'ESFJ' 'ESTP' 'ESTJ' 'ENFP' 'ENFJ' 'ENTP' 'ENTJ' 'ISFP'\n",
      " 'ISFJ' 'ISTP' 'ISTJ' 'INFP' 'INFJ' 'INTP' 'INTJ']\n",
      "False\n",
      "<class 'pandas.core.frame.DataFrame'>\n",
      "Index: 16727 entries, 0 to 18740\n",
      "Data columns (total 5 columns):\n",
      " #   Column            Non-Null Count  Dtype \n",
      "---  ------            --------------  ----- \n",
      " 0   mbti              16727 non-null  object\n",
      " 1   character         16727 non-null  object\n",
      " 2   movie_name        16727 non-null  object\n",
      " 3   movie_name_clean  16727 non-null  object\n",
      " 4   release_year      10939 non-null  object\n",
      "dtypes: object(5)\n",
      "memory usage: 784.1+ KB\n"
     ]
    }
   ],
   "source": [
    "# MBTI data import\n",
    "df_mbti = pd.read_csv(\"./data/raw/mbti.csv\")\n",
    "\n",
    "# Drop unrelated comlumns \"stat\", \"enneagram\", \"img_url\"\n",
    "df_mbti = df_mbti.drop([\"stat\",\"enneagram\",\"img_url\"],axis = 1)\n",
    "\n",
    "# Drop duplicated rows\n",
    "df_mbti = df_mbti.drop_duplicates()\n",
    "\n",
    "# Check if there is any NaN value or abnormal values in mbti columns \n",
    "print(df_mbti[\"mbti\"].unique())\n",
    "print(df_mbti[\"mbti\"].isna().any())\n",
    "\n",
    "# Drop the rows are \"XXXX\" (which is not a mbti type)\n",
    "df_mbti = df_mbti[df_mbti[\"mbti\"]!= \"XXXX\"]\n",
    "\n",
    "# Make sure first letters are capitalized in \"role\" and \"movie\" columns\n",
    "df_mbti[\"role\"] = df_mbti[\"role\"].str.title()\n",
    "df_mbti[\"movie\"] = df_mbti[\"movie\"].str.title()\n",
    "\n",
    "# Use str.strip() to remove spaces.\n",
    "df_mbti[\"movie\"] = df_mbti[\"movie\"].str.strip()\n",
    "\n",
    "# Regular expression pattern for extracting year: '(.*) \\((\\d{4})\\)'\n",
    "pattern_year = r'(.*) \\((\\d{4})\\)'\n",
    "\n",
    "# Extract movies with year\n",
    "# Save the year into \"release_year\" columns\n",
    "df_mbti[['movie_clean', 'release_year']] = df_mbti['movie'].str.extract(pattern_year)\n",
    "\n",
    "# Regular expression pattern to match content in parentheses\n",
    "pattern_parentheses = r'\\s*\\([^)]*\\)'\n",
    "\n",
    "# Remove content in parentheses\n",
    "# Save movie names without parentheses into \"movie_clean\" columns\n",
    "df_mbti['movie_clean'] = df_mbti['movie'].str.replace(pattern_parentheses, '', regex=True)\n",
    "\n",
    "# Rename columns to have consistency in all data sheets\n",
    "df_mbti.rename(columns={'role': 'character', 'movie': 'movie_name','movie_clean':'movie_name_clean'}, inplace=True)\n",
    "\n",
    "df_mbti.to_csv('./data/cleaned/df_mbti.csv', index=False)\n",
    "\n",
    "df_mbti.info()"
   ]
  },
  {
   "cell_type": "markdown",
   "id": "e69e6759",
   "metadata": {},
   "source": [
    "imdb_movies"
   ]
  },
  {
   "cell_type": "code",
   "execution_count": 3,
   "id": "b54b946b",
   "metadata": {},
   "outputs": [
    {
     "name": "stdout",
     "output_type": "stream",
     "text": [
      "False\n",
      "<class 'pandas.core.frame.DataFrame'>\n",
      "RangeIndex: 10178 entries, 0 to 10177\n",
      "Data columns (total 7 columns):\n",
      " #   Column        Non-Null Count  Dtype         \n",
      "---  ------        --------------  -----         \n",
      " 0   movie_name    10178 non-null  object        \n",
      " 1   release_date  10178 non-null  datetime64[ns]\n",
      " 2   score         10178 non-null  float64       \n",
      " 3   genre         10093 non-null  object        \n",
      " 4   budget        10178 non-null  float64       \n",
      " 5   revenue       10178 non-null  float64       \n",
      " 6   country       10178 non-null  object        \n",
      "dtypes: datetime64[ns](1), float64(3), object(3)\n",
      "memory usage: 556.7+ KB\n"
     ]
    }
   ],
   "source": [
    "# imdb_movies data import\n",
    "df_imdb_map = pd.read_csv(\"./data/raw/imdb_movies.csv\")\n",
    "\n",
    "# Drop unrelated comlumns \"stat\", \"enneagram\", \"img_url\"\n",
    "df_imdb_map = df_imdb_map.drop([\"overview\",\"crew\",\"orig_title\",\"status\",\"orig_lang\"],axis = 1)\n",
    "\n",
    "# Drop duplicated rows\n",
    "df_imdb_map = df_imdb_map.drop_duplicates()\n",
    "\n",
    "# Check if there is any NaN value in \"names\" columns \n",
    "print(df_imdb_map[\"names\"].isna().any())\n",
    "\n",
    "# Make sure first letters are capitalized in \"names\" and \"genre\" columns\n",
    "df_imdb_map[\"names\"] = df_imdb_map[\"names\"].str.title()\n",
    "df_imdb_map[\"genre\"] = df_imdb_map[\"genre\"].str.title()\n",
    "\n",
    "# Strip whitespace\n",
    "df_imdb_map['date_x'] = df_imdb_map['date_x'].str.strip()\n",
    "\n",
    "# Convert \"date_x\" column to datetime\n",
    "df_imdb_map['date_x'] = pd.to_datetime(df_imdb_map['date_x'], format='%m/%d/%Y')\n",
    "\n",
    "# Rename columns to have consistency in all data sheets\n",
    "df_imdb_map.rename(columns={'names': 'movie_name', 'date_x': 'release_date','budget_x':'budget'}, inplace=True)\n",
    "\n",
    "df_imdb_map.to_csv('./data/cleaned/df_imdb_map.csv', index=False)\n",
    "df_imdb_map.info()"
   ]
  },
  {
   "cell_type": "markdown",
   "id": "6b16c082",
   "metadata": {},
   "source": [
    "imdb_db"
   ]
  },
  {
   "cell_type": "code",
   "execution_count": 4,
   "id": "8fcdc0f8",
   "metadata": {},
   "outputs": [
    {
     "name": "stdout",
     "output_type": "stream",
     "text": [
      "False\n",
      "<class 'pandas.core.frame.DataFrame'>\n",
      "Index: 130482 entries, 0 to 189895\n",
      "Data columns (total 6 columns):\n",
      " #   Column        Non-Null Count   Dtype  \n",
      "---  ------        --------------   -----  \n",
      " 0   movie_name    130482 non-null  object \n",
      " 1   release_year  130477 non-null  float64\n",
      " 2   genre         130482 non-null  object \n",
      " 3   revenue       9082 non-null    float64\n",
      " 4   score         130482 non-null  float64\n",
      " 5   metascore     8672 non-null    float64\n",
      "dtypes: float64(4), object(2)\n",
      "memory usage: 7.0+ MB\n"
     ]
    }
   ],
   "source": [
    "#imdb_db data import\n",
    "df_db = pd.read_csv(\"./data/raw/imdb_db.csv\")\n",
    "\n",
    "# Drop unrelated comlumns \"Number of Votes\",\"Time Duration (min)\",\"Director\",\"Actors\",\"Restriction\",\"Description\",\"Serie Name\",\"Serie Date\"\n",
    "df_db = df_db.drop([\"Number of Votes\",\"Time Duration (min)\",\"Director\",\"Actors\",\"Restriction\",\"Description\",\"Serie Name\",\"Serie Date\"],axis = 1)\n",
    "\n",
    "# Drop duplicated rows\n",
    "df_db = df_db.drop_duplicates()\n",
    "\n",
    "# Check if there is any NaN value in \"Movie Name\" columns \n",
    "print(df_db[\"Movie Name\"].isna().any())\n",
    "\n",
    "# Make sure first letters are capitalized in \"Movie Name\" and \"Movie Type\" columns\n",
    "df_db[\"Movie Name\"] = df_db[\"Movie Name\"].str.title()\n",
    "df_db[\"Movie Type\"] = df_db[\"Movie Type\"].str.title()\n",
    "\n",
    "# Remove square brackets in \"Movie Type\" column\n",
    "df_db['Movie Type'] = df_db['Movie Type'].str.replace(r'[\\[\\]]', '', regex=True)\n",
    "\n",
    "# Remove single quotes in \"Movie Type\" column\n",
    "df_db['Movie Type'] = df_db['Movie Type'].str.replace(r\"'\", '', regex=True)\n",
    "\n",
    "# Rename columns to have consistency in all data sheets\n",
    "df_db.rename(columns={'Movie Name': 'movie_name',\n",
    "                            'Movie Date': 'release_year',\n",
    "                            'Movie Type':'genre',\n",
    "                            'Movie Revenue (M$)':'revenue',\n",
    "                            'Score':'score',\n",
    "                            'Metascore':'metascore'}, inplace=True)\n",
    "\n",
    "df_db.info()"
   ]
  }
 ],
 "metadata": {
  "kernelspec": {
   "display_name": "python3",
   "language": "python",
   "name": "python3"
  },
  "language_info": {
   "codemirror_mode": {
    "name": "ipython",
    "version": 3
   },
   "file_extension": ".py",
   "mimetype": "text/x-python",
   "name": "python",
   "nbconvert_exporter": "python",
   "pygments_lexer": "ipython3",
   "version": "3.9.6"
  }
 },
 "nbformat": 4,
 "nbformat_minor": 5
}
